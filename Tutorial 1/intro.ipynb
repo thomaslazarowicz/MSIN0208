{
 "cells": [
  {
   "cell_type": "markdown",
   "id": "ef7c2d85",
   "metadata": {},
   "source": [
    "# Basic Python Tools - Big Data Analytics\n",
    "This notebook walks through core Python/NumPy/Pandas idioms that you’ll rely on throughout the programme, with brief performance notes and reproducible examples."
   ]
  },
  {
   "cell_type": "markdown",
   "id": "31b7f075",
   "metadata": {},
   "source": [
    "## 0  |  Set‑up & reproducibility"
   ]
  },
  {
   "cell_type": "code",
   "execution_count": 1,
   "id": "64a41356",
   "metadata": {},
   "outputs": [
    {
     "name": "stdout",
     "output_type": "stream",
     "text": [
      "Python 3.9.5  •  NumPy 1.26.4  •  Pandas 2.2.1\n"
     ]
    }
   ],
   "source": [
    "import sys, platform, random, numpy as np, pandas as pd\n",
    "print(f\"Python {sys.version.split()[0]}  •  NumPy {np.__version__}  •  Pandas {pd.__version__}\")\n",
    "np.set_printoptions(precision=3, suppress=True)\n",
    "SEED = 42\n",
    "np.random.seed(SEED)\n",
    "random.seed(SEED)\n"
   ]
  },
  {
   "cell_type": "markdown",
   "id": "84b84610",
   "metadata": {},
   "source": [
    "## 1  |  Operations on a vector"
   ]
  },
  {
   "cell_type": "code",
   "execution_count": 2,
   "id": "59d6b9eb",
   "metadata": {},
   "outputs": [
    {
     "name": "stdout",
     "output_type": "stream",
     "text": [
      "x = [1, 2, 3, 4, 5]\n",
      "x[1] = 2\n",
      "[2, 4, 6, 8, 10]\n",
      "[0.5, 1.0, 1.5, 2.0, 2.5]\n",
      "[2, 3, 4, 5, 6]\n",
      "[1, 4, 9, 16, 25]\n"
     ]
    }
   ],
   "source": [
    "x = [1, 2, 3, 4, 5]\n",
    "print('x =', x)\n",
    "print('x[1] =', x[1])      # 0‑based indexing\n",
    "print([2 * i for i in x])\n",
    "print([i / 2 for i in x])\n",
    "print([i + 1 for i in x])\n",
    "print([i ** 2 for i in x])\n"
   ]
  },
  {
   "cell_type": "markdown",
   "id": "ae5da611",
   "metadata": {},
   "source": [
    "## 2  |  Operations between two vectors"
   ]
  },
  {
   "cell_type": "code",
   "execution_count": 3,
   "id": "80a04191",
   "metadata": {},
   "outputs": [
    {
     "name": "stdout",
     "output_type": "stream",
     "text": [
      "[6, 14, 24, 36, 50]\n",
      "130\n",
      "[[6, 7, 8, 9, 10], [12, 14, 16, 18, 20], [18, 21, 24, 27, 30], [24, 28, 32, 36, 40], [30, 35, 40, 45, 50]]\n"
     ]
    }
   ],
   "source": [
    "x = [1, 2, 3, 4, 5]\n",
    "y = list(range(6, 11))\n",
    "print([i * j for i, j in zip(x, y)])            # element‑wise\n",
    "print(sum(i * j for i, j in zip(x, y)))         # dot product\n",
    "print([[i * j for j in y] for i in x])          # outer product\n"
   ]
  },
  {
   "cell_type": "markdown",
   "id": "51e5896d",
   "metadata": {},
   "source": [
    "## 3  |  Matrices"
   ]
  },
  {
   "cell_type": "code",
   "execution_count": 4,
   "id": "e0a0c823",
   "metadata": {},
   "outputs": [
    {
     "name": "stdout",
     "output_type": "stream",
     "text": [
      "X =\n",
      " [[1 2]\n",
      " [3 4]\n",
      " [5 6]]\n",
      "Xᵀ =\n",
      " [[1 3 5]\n",
      " [2 4 6]]\n"
     ]
    }
   ],
   "source": [
    "import numpy as np\n",
    "X = np.array([[1, 2], [3, 4], [5, 6]])\n",
    "print('X =\\n', X)\n",
    "print('Xᵀ =\\n', X.T)\n"
   ]
  },
  {
   "cell_type": "markdown",
   "id": "980a3d69",
   "metadata": {},
   "source": [
    "## 4  |  Operations between vectors and matrices"
   ]
  },
  {
   "cell_type": "code",
   "execution_count": 5,
   "id": "971b45d8",
   "metadata": {},
   "outputs": [
    {
     "name": "stdout",
     "output_type": "stream",
     "text": [
      "[[13 16]]\n",
      "[[13]\n",
      " [16]]\n",
      "[[ 0  0]\n",
      " [ 3  4]\n",
      " [10 12]]\n",
      "[[1 2]\n",
      " [4 5]\n",
      " [7 8]]\n"
     ]
    }
   ],
   "source": [
    "x_vec = np.array([[0], [1], [2]])\n",
    "print(x_vec.T @ X)\n",
    "print(X.T @ x_vec)\n",
    "print(x_vec * X)\n",
    "print(x_vec + X)\n"
   ]
  },
  {
   "cell_type": "markdown",
   "id": "6622c192",
   "metadata": {},
   "source": [
    "## 5  |  Operations between matrices"
   ]
  },
  {
   "cell_type": "code",
   "execution_count": 6,
   "id": "286b310b",
   "metadata": {},
   "outputs": [
    {
     "name": "stdout",
     "output_type": "stream",
     "text": [
      "[[ 5 11 17]\n",
      " [11 25 39]\n",
      " [17 39 61]]\n",
      "[[35 44]\n",
      " [44 56]]\n",
      "[[ 1  4]\n",
      " [ 9 16]\n",
      " [25 36]]\n",
      "[[ 2.333 -1.833]\n",
      " [-1.833  1.458]]\n"
     ]
    }
   ],
   "source": [
    "print(X @ X.T)\n",
    "print(X.T @ X)\n",
    "print(X ** 2)\n",
    "print(np.linalg.inv(X.T @ X))\n"
   ]
  },
  {
   "cell_type": "markdown",
   "id": "68a13fd5",
   "metadata": {},
   "source": [
    "## 6  |  Loops – small illustration"
   ]
  },
  {
   "cell_type": "code",
   "execution_count": 7,
   "id": "7e6101f6",
   "metadata": {},
   "outputs": [
    {
     "name": "stdout",
     "output_type": "stream",
     "text": [
      "The squared entry 0 of x is 0\n",
      "The squared entry 1 of x is 1\n",
      "The squared entry 2 of x is 4\n"
     ]
    }
   ],
   "source": [
    "x_arr = np.array([0,1,2])\n",
    "for i, val in enumerate(x_arr):\n",
    "    print(f'The squared entry {i} of x is {val ** 2}')\n"
   ]
  },
  {
   "cell_type": "markdown",
   "id": "e2b17829",
   "metadata": {},
   "source": [
    "### 6.1  |  An inefficient inner product"
   ]
  },
  {
   "cell_type": "code",
   "execution_count": 8,
   "id": "7bd40a3e",
   "metadata": {},
   "outputs": [
    {
     "name": "stdout",
     "output_type": "stream",
     "text": [
      "⟨x,x⟩ = 5.0\n"
     ]
    }
   ],
   "source": [
    "x_inner = 0.0\n",
    "for val in x_arr:\n",
    "    x_inner += float(val) * float(val)\n",
    "print('⟨x,x⟩ =', x_inner)\n"
   ]
  },
  {
   "cell_type": "markdown",
   "id": "ce66a3ca",
   "metadata": {},
   "source": [
    "## 7  |  Timing: vectorisation vs a Python loop"
   ]
  },
  {
   "cell_type": "code",
   "execution_count": 9,
   "id": "e6f0f8b3",
   "metadata": {},
   "outputs": [
    {
     "name": "stdout",
     "output_type": "stream",
     "text": [
      "vectorised : 0.23546129999999987 s\n",
      "python loop: 14.660399100000001 s\n"
     ]
    }
   ],
   "source": [
    "import timeit\n",
    "setup_code = \"import numpy as np; x = np.arange(1_000_000)\"\n",
    "vect_stmt = \"x * 3\"\n",
    "py_loop_stmt = '''\n",
    "s = np.empty_like(x)\n",
    "for i, v in enumerate(x):\n",
    "    s[i] = v * 3\n",
    "'''\n",
    "print(\"vectorised :\", timeit.timeit(vect_stmt, setup=setup_code, number=100), \"s\")\n",
    "print(\"python loop:\", timeit.timeit(py_loop_stmt, setup=setup_code, number=100), \"s\")\n"
   ]
  },
  {
   "cell_type": "markdown",
   "id": "e11bdbc7",
   "metadata": {},
   "source": [
    "## 8  |  Broadcasting & built‑ins "
   ]
  },
  {
   "cell_type": "code",
   "execution_count": 10,
   "id": "04ee56e5",
   "metadata": {},
   "outputs": [
    {
     "name": "stdout",
     "output_type": "stream",
     "text": [
      "Outer:\n",
      " [[ 6  7  8  9 10]\n",
      " [12 14 16 18 20]\n",
      " [18 21 24 27 30]\n",
      " [24 28 32 36 40]\n",
      " [30 35 40 45 50]]\n",
      "Dot: 130\n"
     ]
    }
   ],
   "source": [
    "x = np.arange(1,6)[:,None]       # (5,1)\n",
    "y = np.arange(6,11)[None,:]      # (1,5)\n",
    "outer = x * y\n",
    "dot = x.ravel() @ y.ravel()\n",
    "print('Outer:\\n', outer)\n",
    "print('Dot:', dot)\n"
   ]
  },
  {
   "cell_type": "markdown",
   "id": "b642001d",
   "metadata": {},
   "source": [
    "## 9  |  While loops with a convergence criterion"
   ]
  },
  {
   "cell_type": "code",
   "execution_count": 11,
   "id": "c46d8c4b",
   "metadata": {},
   "outputs": [
    {
     "name": "stdout",
     "output_type": "stream",
     "text": [
      "Result: 0.5500000000000003 \n",
      "Error: 2.220446049250313e-16 \n",
      "Iterations: 55\n"
     ]
    }
   ],
   "source": [
    "tolerance = 1e-10\n",
    "true_value = 0.55\n",
    "x_grid = np.linspace(-1,1,100)\n",
    "y_grid = true_value * x_grid\n",
    "guess, step, ctr, max_iter = 0.0, 0.01, 0, 100\n",
    "while ctr < max_iter:\n",
    "    if np.sum((y_grid - x_grid * guess)**2) <= tolerance:\n",
    "        break\n",
    "    guess += step\n",
    "    ctr += 1\n",
    "print('Result:', guess, '\\nError:', guess-true_value, '\\nIterations:', ctr)\n"
   ]
  },
  {
   "cell_type": "markdown",
   "id": "7449deb8",
   "metadata": {},
   "source": [
    "## 10  |  Mini Monte‑Carlo simulation"
   ]
  },
  {
   "cell_type": "code",
   "execution_count": 12,
   "id": "943ba2b8",
   "metadata": {},
   "outputs": [
    {
     "name": "stdout",
     "output_type": "stream",
     "text": [
      "Mean of estimators: [-0.     0.993]\n"
     ]
    }
   ],
   "source": [
    "MC = 100_000\n",
    "ests = np.zeros((MC,2))\n",
    "for m in range(MC):\n",
    "    smp = np.random.normal(0,1,100)\n",
    "    ests[m,0] = smp.mean()\n",
    "    ests[m,1] = smp.std()\n",
    "print('Mean of estimators:', ests.mean(axis=0))\n"
   ]
  },
  {
   "cell_type": "markdown",
   "id": "5ee904bb",
   "metadata": {},
   "source": [
    "## 11  |  A 60‑second tour of Pandas"
   ]
  },
  {
   "cell_type": "code",
   "execution_count": 13,
   "id": "c7b8c3ab",
   "metadata": {},
   "outputs": [
    {
     "data": {
      "application/vnd.microsoft.datawrangler.viewer.v0+json": {
       "columns": [
        {
         "name": "index",
         "rawType": "int64",
         "type": "integer"
        },
        {
         "name": "age",
         "rawType": "int32",
         "type": "integer"
        },
        {
         "name": "score",
         "rawType": "float64",
         "type": "float"
        }
       ],
       "conversionMethod": "pd.DataFrame",
       "ref": "1b57ea61-df91-43e8-b0d9-9af065a32d05",
       "rows": [
        [
         "0",
         "47",
         "72.2867911358691"
        ],
        [
         "1",
         "58",
         "69.19956512312477"
        ],
        [
         "2",
         "48",
         "65.28373310475337"
        ],
        [
         "3",
         "36",
         "61.041035525256916"
        ],
        [
         "4",
         "48",
         "79.31962610330635"
        ]
       ],
       "shape": {
        "columns": 2,
        "rows": 5
       }
      },
      "text/html": [
       "<div>\n",
       "<style scoped>\n",
       "    .dataframe tbody tr th:only-of-type {\n",
       "        vertical-align: middle;\n",
       "    }\n",
       "\n",
       "    .dataframe tbody tr th {\n",
       "        vertical-align: top;\n",
       "    }\n",
       "\n",
       "    .dataframe thead th {\n",
       "        text-align: right;\n",
       "    }\n",
       "</style>\n",
       "<table border=\"1\" class=\"dataframe\">\n",
       "  <thead>\n",
       "    <tr style=\"text-align: right;\">\n",
       "      <th></th>\n",
       "      <th>age</th>\n",
       "      <th>score</th>\n",
       "    </tr>\n",
       "  </thead>\n",
       "  <tbody>\n",
       "    <tr>\n",
       "      <th>0</th>\n",
       "      <td>47</td>\n",
       "      <td>72.286791</td>\n",
       "    </tr>\n",
       "    <tr>\n",
       "      <th>1</th>\n",
       "      <td>58</td>\n",
       "      <td>69.199565</td>\n",
       "    </tr>\n",
       "    <tr>\n",
       "      <th>2</th>\n",
       "      <td>48</td>\n",
       "      <td>65.283733</td>\n",
       "    </tr>\n",
       "    <tr>\n",
       "      <th>3</th>\n",
       "      <td>36</td>\n",
       "      <td>61.041036</td>\n",
       "    </tr>\n",
       "    <tr>\n",
       "      <th>4</th>\n",
       "      <td>48</td>\n",
       "      <td>79.319626</td>\n",
       "    </tr>\n",
       "  </tbody>\n",
       "</table>\n",
       "</div>"
      ],
      "text/plain": [
       "   age      score\n",
       "0   47  72.286791\n",
       "1   58  69.199565\n",
       "2   48  65.283733\n",
       "3   36  61.041036\n",
       "4   48  79.319626"
      ]
     },
     "metadata": {},
     "output_type": "display_data"
    },
    {
     "name": "stdout",
     "output_type": "stream",
     "text": [
      "       count      mean        std        min        25%        50%        75%  \\\n",
      "age      8.0  46.37500   6.738747  36.000000  41.750000  47.500000  48.750000   \n",
      "score    8.0  66.41647  10.777719  48.935379  59.807515  67.241649  74.004762   \n",
      "\n",
      "             max  \n",
      "age    58.000000  \n",
      "score  79.319626  \n"
     ]
    },
    {
     "data": {
      "application/vnd.microsoft.datawrangler.viewer.v0+json": {
       "columns": [
        {
         "name": "pass",
         "rawType": "bool",
         "type": "boolean"
        },
        {
         "name": "('score', 'mean')",
         "rawType": "float64",
         "type": "float"
        },
        {
         "name": "('score', 'count')",
         "rawType": "int64",
         "type": "integer"
        }
       ],
       "conversionMethod": "pd.DataFrame",
       "ref": "2b89f3b2-2593-4e88-8a0d-a1a790caf131",
       "rows": [
        [
         "False",
         "52.52116627840165",
         "2"
        ],
        [
         "True",
         "71.04823731407494",
         "6"
        ]
       ],
       "shape": {
        "columns": 2,
        "rows": 2
       }
      },
      "text/html": [
       "<div>\n",
       "<style scoped>\n",
       "    .dataframe tbody tr th:only-of-type {\n",
       "        vertical-align: middle;\n",
       "    }\n",
       "\n",
       "    .dataframe tbody tr th {\n",
       "        vertical-align: top;\n",
       "    }\n",
       "\n",
       "    .dataframe thead tr th {\n",
       "        text-align: left;\n",
       "    }\n",
       "\n",
       "    .dataframe thead tr:last-of-type th {\n",
       "        text-align: right;\n",
       "    }\n",
       "</style>\n",
       "<table border=\"1\" class=\"dataframe\">\n",
       "  <thead>\n",
       "    <tr>\n",
       "      <th></th>\n",
       "      <th colspan=\"2\" halign=\"left\">score</th>\n",
       "    </tr>\n",
       "    <tr>\n",
       "      <th></th>\n",
       "      <th>mean</th>\n",
       "      <th>count</th>\n",
       "    </tr>\n",
       "    <tr>\n",
       "      <th>pass</th>\n",
       "      <th></th>\n",
       "      <th></th>\n",
       "    </tr>\n",
       "  </thead>\n",
       "  <tbody>\n",
       "    <tr>\n",
       "      <th>False</th>\n",
       "      <td>52.521166</td>\n",
       "      <td>2</td>\n",
       "    </tr>\n",
       "    <tr>\n",
       "      <th>True</th>\n",
       "      <td>71.048237</td>\n",
       "      <td>6</td>\n",
       "    </tr>\n",
       "  </tbody>\n",
       "</table>\n",
       "</div>"
      ],
      "text/plain": [
       "           score      \n",
       "            mean count\n",
       "pass                  \n",
       "False  52.521166     2\n",
       "True   71.048237     6"
      ]
     },
     "execution_count": 13,
     "metadata": {},
     "output_type": "execute_result"
    }
   ],
   "source": [
    "df = pd.DataFrame({\n",
    "    'age': np.random.randint(18,60,8),\n",
    "    'score': np.random.normal(70,10,8)\n",
    "})\n",
    "display(df.head())\n",
    "print(df.describe().T)\n",
    "df['pass'] = df.score >= 60\n",
    "df.groupby('pass').agg({'score':['mean','count']})\n"
   ]
  },
  {
   "cell_type": "markdown",
   "id": "8539627c",
   "metadata": {},
   "source": [
    "## 12  |  A quick diagnostic plot"
   ]
  },
  {
   "cell_type": "code",
   "execution_count": 14,
   "id": "7fbfd3f6",
   "metadata": {},
   "outputs": [
    {
     "data": {
      "image/png": "[encoded data removed]",
      "text/plain": [
       "<Figure size 640x480 with 1 Axes>"
      ]
     },
     "metadata": {},
     "output_type": "display_data"
    }
   ],
   "source": [
    "import matplotlib.pyplot as plt\n",
    "plt.scatter(df.age, df.score)\n",
    "plt.xlabel('Age'); plt.ylabel('Score')\n",
    "plt.title('Toy marks scatter‑plot')\n",
    "plt.show()\n"
   ]
  },
  {
   "cell_type": "markdown",
   "id": "6c150eca",
   "metadata": {},
   "source": [
    "## 13  |  Functions & composability"
   ]
  },
  {
   "cell_type": "code",
   "execution_count": 15,
   "id": "36646ec9",
   "metadata": {},
   "outputs": [
    {
     "name": "stdout",
     "output_type": "stream",
     "text": [
      "32.0\n"
     ]
    }
   ],
   "source": [
    "from typing import Sequence\n",
    "def inner(u: Sequence[float], v: Sequence[float]) -> float:\n",
    "    '''Return ⟨u,v⟩.'''\n",
    "    if len(u)!=len(v):\n",
    "        raise ValueError('size mismatch')\n",
    "    return float(np.dot(u,v))\n",
    "print(inner([1,2,3],[4,5,6]))\n"
   ]
  },
  {
   "cell_type": "markdown",
   "id": "cc19260b",
   "metadata": {},
   "source": [
    "## 14  |  A tiny scikit‑learn teaser"
   ]
  },
  {
   "cell_type": "code",
   "execution_count": 16,
   "id": "14d523a5",
   "metadata": {},
   "outputs": [
    {
     "name": "stdout",
     "output_type": "stream",
     "text": [
      "[ 2.023 -0.988  0.486]\n"
     ]
    }
   ],
   "source": [
    "from sklearn.linear_model import LinearRegression\n",
    "X = np.random.randn(200,3)\n",
    "beta = np.array([2,-1,0.5])\n",
    "y = X @ beta + np.random.randn(200)*0.2\n",
    "print(LinearRegression().fit(X,y).coef_)\n"
   ]
  }
 ],
 "metadata": {
  "kernelspec": {
   "display_name": "Python 3",
   "language": "python",
   "name": "python3"
  },
  "language_info": {
   "codemirror_mode": {
    "name": "ipython",
    "version": 3
   },
   "file_extension": ".py",
   "mimetype": "text/x-python",
   "name": "python",
   "nbconvert_exporter": "python",
   "pygments_lexer": "ipython3",
   "version": "3.9.5"
  }
 },
 "nbformat": 4,
 "nbformat_minor": 5
}
