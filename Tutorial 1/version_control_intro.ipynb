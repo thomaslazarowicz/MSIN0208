{
 "cells": [
  {
   "cell_type": "markdown",
   "id": "8c5db36f",
   "metadata": {},
   "source": [
    "# Git & GitHub in VS Code – Lightning Guide  \n",
    "\n",
    "Everything here is done **purely inside Visual Studio Code**—no terminal required.\n"
   ]
  },
  {
   "cell_type": "markdown",
   "id": "19bb0f1a",
   "metadata": {},
   "source": [
    "## 1   Install & sign in (first time only)\n",
    "\n",
    "1. **VS Code** – <https://code.visualstudio.com>  \n",
    "2. Tick *“Add Git to PATH”* during installation (bundles Git).  \n",
    "3. In VS Code, open **Extensions** → install **GitHub Pull Requests and Issues**.  \n",
    "4. Click the Accounts icon → **Sign in to GitHub** and authorise.\n"
   ]
  },
  {
   "cell_type": "markdown",
   "id": "a4d28624",
   "metadata": {},
   "source": [
    "## 2   Clone **this course’s repo**\n",
    "\n",
    "Example for 24/25:\n",
    "\n",
    "```\n",
    "https://https://github.com/thomaslazarowicz/MSIN0208.git\n",
    "```\n",
    "\n",
    "Inside VS Code:\n",
    "\n",
    "1. `⇧⌘P` / `Ctrl+Shift+P` → **Git: Clone**  \n",
    "2. Paste the URL → choose where to save → **Open in New Window**.  \n",
    "3. VS Code automatically opens the folder and shows `main` as the current branch.  \n",
    "4. Press the **Cloud ⬇︎ Pull** icon to make sure you have the latest version.\n"
   ]
  },
  {
   "cell_type": "markdown",
   "id": "3e93dd66",
   "metadata": {},
   "source": [
    "## 3   (If you need your own repo)\n",
    "\n",
    "*Create an empty folder* → open it in VS Code → Source Control view → *“Initialize Repository”* → add `README.md` → **✓ Commit**.\n"
   ]
  },
  {
   "cell_type": "markdown",
   "id": "dc7aa0f0",
   "metadata": {},
   "source": [
    "## 4   Every‑day workflow\n",
    "\n",
    "| Task | VS Code GUI step |\n",
    "|------|------------------|\n",
    "| See modified files | Source Control view |\n",
    "| Stage file(s) | **⊕** next to filename |\n",
    "| Commit | type message → **✓ Commit** |\n",
    "| Push to your fork | Cloud ⬆︎ icon (“Publish” / “Push”) |\n",
    "| Pull updates from lecturer | Cloud ⬇︎ icon |\n"
   ]
  },
  {
   "cell_type": "markdown",
   "id": "7e020002",
   "metadata": {},
   "source": [
    "## 5   Working on a personal branch\n",
    "\n",
    "1. Status‑bar branch name → **+ Create new branch** (e.g. *lab‑01‑solutions*).  \n",
    "2. Edit files, Stage **⊕**, **✓ Commit**.  \n",
    "3. Click **Publish Branch** (cloud ⬆︎) to push the branch to your own fork.\n"
   ]
  },
  {
   "cell_type": "markdown",
   "id": "4fa681f0",
   "metadata": {},
   "source": [
    "## 6   Handling merge conflicts\n",
    "\n",
    "If the lecturer updates the repo and you have local changes:\n",
    "\n",
    "1. Click **Cloud ⬇︎ Pull**; conflicts show **⚠️** in Source Control.  \n",
    "2. Open a conflicted file → blue *Accept Current / Incoming* buttons.  \n",
    "3. Save, **✓ Commit**, **Push** to resolve.\n"
   ]
  },
  {
   "cell_type": "markdown",
   "id": "4b33f4cd",
   "metadata": {},
   "source": [
    "## 7   Ignoring junk files (`.gitignore`)\n",
    "\n",
    "Add a `.gitignore` (Explorer → *New File*):\n",
    "\n",
    "```\n",
    ".vscode/\n",
    "__pycache__/\n",
    "*.py[cod]\n",
    "*.ipynb_checkpoints/\n",
    "```\n"
   ]
  },
  {
   "cell_type": "markdown",
   "id": "8fcbe887",
   "metadata": {},
   "source": [
    "---\n",
    "\n",
    "### Quick keys & icons\n",
    "\n",
    "* **⇧⌘P / Ctrl+Shift+P** – Command Palette  \n",
    "* **⌃⇧G / Ctrl+Shift+G** – Source Control sidebar  \n",
    "* **Cloud ⬆︎ / ⬇︎** – push / pull  \n",
    "* **⊕** – stage file  **✓** – commit  \n"
   ]
  }
 ],
 "metadata": {
  "kernelspec": {
   "display_name": "Python 3",
   "language": "python",
   "name": "python3"
  },
  "language_info": {
   "name": "python",
   "version": "3.11.8"
  }
 },
 "nbformat": 4,
 "nbformat_minor": 5
}
